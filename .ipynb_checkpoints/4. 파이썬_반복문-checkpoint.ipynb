{
 "cells": [
  {
   "cell_type": "markdown",
   "metadata": {
    "id": "nj3TlapiH5L7"
   },
   "source": [
    "01\n",
    "\n",
    "for문의 실행결과를 예측하라.\n",
    "\n",
    "```\n",
    "과일 = [\"사과\", \"귤\", \"수박\"]\n",
    "for 변수 in 과일:\n",
    "    print(변수)\n",
    "\n",
    "```"
   ]
  },
  {
   "cell_type": "code",
   "execution_count": 1,
   "metadata": {
    "colab": {
     "base_uri": "https://localhost:8080/"
    },
    "executionInfo": {
     "elapsed": 6,
     "status": "ok",
     "timestamp": 1680854132839,
     "user": {
      "displayName": "Seunghwan Oh",
      "userId": "10114488339256114508"
     },
     "user_tz": -540
    },
    "id": "daXA4ISFH4t-",
    "outputId": "c24c12dc-e27c-49c5-d649-08e4410e3963"
   },
   "outputs": [
    {
     "name": "stdout",
     "output_type": "stream",
     "text": [
      "사과\n",
      "귤\n",
      "수박\n"
     ]
    }
   ],
   "source": [
    "과일 = [\"사과\", \"귤\", \"수박\"]\n",
    "for 변수 in 과일:\n",
    "    print(변수)"
   ]
  },
  {
   "cell_type": "markdown",
   "metadata": {
    "id": "-IlHn2gZIZd_"
   },
   "source": [
    "02\n",
    "\n",
    "for문의 실행결과를 예측하라.\n",
    "\n",
    "```\n",
    "과일 = [\"사과\", \"귤\", \"수박\"]\n",
    "for 변수 in 과일:\n",
    "  print(\"#####\")\n",
    "```"
   ]
  },
  {
   "cell_type": "code",
   "execution_count": 3,
   "metadata": {
    "colab": {
     "base_uri": "https://localhost:8080/"
    },
    "executionInfo": {
     "elapsed": 4,
     "status": "ok",
     "timestamp": 1680854158586,
     "user": {
      "displayName": "Seunghwan Oh",
      "userId": "10114488339256114508"
     },
     "user_tz": -540
    },
    "id": "D1wrhEPoH0q4",
    "outputId": "647694d8-fd4c-41fe-b8bb-ef54350b77a0"
   },
   "outputs": [
    {
     "name": "stdout",
     "output_type": "stream",
     "text": [
      "#####\n",
      "#####\n",
      "#####\n"
     ]
    }
   ],
   "source": [
    "과일 = [\"사과\", \"귤\", \"수박\"]\n",
    "for 변수 in 과일:\n",
    "    print(\"#####\")"
   ]
  },
  {
   "cell_type": "markdown",
   "metadata": {
    "id": "y63R3vi1Ie9-"
   },
   "source": [
    "03\n",
    "\n",
    "다음 for 문과 동일한 기능을 수행하는 코드를 작성하세요.\n",
    "\n",
    "```\n",
    "for 변수 in [\"A\", \"B\", \"C\"]:\n",
    "  print(변수)\n",
    "```"
   ]
  },
  {
   "cell_type": "code",
   "execution_count": 4,
   "metadata": {
    "colab": {
     "base_uri": "https://localhost:8080/"
    },
    "executionInfo": {
     "elapsed": 5,
     "status": "ok",
     "timestamp": 1680854224098,
     "user": {
      "displayName": "Seunghwan Oh",
      "userId": "10114488339256114508"
     },
     "user_tz": -540
    },
    "id": "HVfkYSGSIiUd",
    "outputId": "69392509-2640-4c28-d8bb-77aa0df13dbd"
   },
   "outputs": [
    {
     "name": "stdout",
     "output_type": "stream",
     "text": [
      "A\n",
      "B\n",
      "C\n"
     ]
    }
   ],
   "source": [
    "for 변수 in [\"A\", \"B\", \"C\"]:\n",
    "    print(변수)"
   ]
  },
  {
   "cell_type": "markdown",
   "metadata": {
    "id": "ugFsFUIOIjV2"
   },
   "source": [
    "04\n",
    "\n",
    "for문을 풀어서 동일한 동작을하는 코드를 작성하라.\n",
    "\n",
    "```\n",
    "for 변수 in [\"A\", \"B\", \"C\"]:\n",
    "  print(\"출력:\", 변수)\n",
    "```"
   ]
  },
  {
   "cell_type": "code",
   "execution_count": 5,
   "metadata": {
    "id": "5elfVCaGIlu5"
   },
   "outputs": [
    {
     "name": "stdout",
     "output_type": "stream",
     "text": [
      "출력: A\n",
      "출력: B\n",
      "출력: C\n"
     ]
    }
   ],
   "source": [
    "for 변수 in [\"A\", \"B\", \"C\"]:\n",
    "      print(\"출력:\", 변수)"
   ]
  },
  {
   "cell_type": "markdown",
   "metadata": {
    "id": "fWee8nxXItat"
   },
   "source": [
    "06\n",
    "\n",
    "다음 코드를 for문으로 작성하라.\n",
    "\n",
    "```\n",
    "변수 = 10\n",
    "print(변수)\n",
    "변수 = 20\n",
    "print(변수)\n",
    "변수 = 30\n",
    "print(변수)\n",
    "```"
   ]
  },
  {
   "cell_type": "code",
   "execution_count": 6,
   "metadata": {
    "colab": {
     "base_uri": "https://localhost:8080/"
    },
    "executionInfo": {
     "elapsed": 3,
     "status": "ok",
     "timestamp": 1680854306499,
     "user": {
      "displayName": "Seunghwan Oh",
      "userId": "10114488339256114508"
     },
     "user_tz": -540
    },
    "id": "Ts11q_cRIw7Q",
    "outputId": "9ac51d64-bfea-4257-f85a-8af698d84897"
   },
   "outputs": [
    {
     "name": "stdout",
     "output_type": "stream",
     "text": [
      "10\n",
      "20\n",
      "30\n"
     ]
    }
   ],
   "source": [
    "변수 = 10\n",
    "print(변수)\n",
    "변수 = 20\n",
    "print(변수)\n",
    "변수 = 30\n",
    "print(변수)"
   ]
  },
  {
   "cell_type": "code",
   "execution_count": 7,
   "metadata": {},
   "outputs": [
    {
     "name": "stdout",
     "output_type": "stream",
     "text": [
      "10\n",
      "20\n",
      "30\n"
     ]
    }
   ],
   "source": [
    "for 변수 in [10,20,30]:\n",
    "    print(변수)"
   ]
  },
  {
   "cell_type": "markdown",
   "metadata": {
    "id": "JVBw3URdIyd4"
   },
   "source": [
    "07\n",
    "\n",
    "다음 코드를 for문으로 작성하라.\n",
    "\n",
    "```\n",
    "print(10)\n",
    "print(20)\n",
    "print(30)\n",
    "```"
   ]
  },
  {
   "cell_type": "code",
   "execution_count": 8,
   "metadata": {
    "colab": {
     "base_uri": "https://localhost:8080/"
    },
    "executionInfo": {
     "elapsed": 11,
     "status": "ok",
     "timestamp": 1680854322660,
     "user": {
      "displayName": "Seunghwan Oh",
      "userId": "10114488339256114508"
     },
     "user_tz": -540
    },
    "id": "XLvKeXuiI2HH",
    "outputId": "d853afdc-4a21-4c43-c718-d03253e4392d"
   },
   "outputs": [
    {
     "name": "stdout",
     "output_type": "stream",
     "text": [
      "10\n",
      "20\n",
      "30\n"
     ]
    }
   ],
   "source": [
    "print(10)\n",
    "print(20)\n",
    "print(30)"
   ]
  },
  {
   "cell_type": "code",
   "execution_count": 9,
   "metadata": {},
   "outputs": [
    {
     "name": "stdout",
     "output_type": "stream",
     "text": [
      "10\n",
      "20\n",
      "30\n"
     ]
    }
   ],
   "source": [
    "for i in range(1,4):\n",
    "    print(i*10)"
   ]
  },
  {
   "cell_type": "markdown",
   "metadata": {
    "id": "2sDzJxplI3Jx"
   },
   "source": [
    "08\n",
    "\n",
    "다음 코드를 for문으로 작성하라.\n",
    "\n",
    "```\n",
    "print(10)\n",
    "print(\"-------\")\n",
    "print(20)\n",
    "print(\"-------\")\n",
    "print(30)\n",
    "print(\"-------\")\n",
    "```"
   ]
  },
  {
   "cell_type": "code",
   "execution_count": 10,
   "metadata": {
    "colab": {
     "base_uri": "https://localhost:8080/"
    },
    "executionInfo": {
     "elapsed": 3,
     "status": "ok",
     "timestamp": 1680854341364,
     "user": {
      "displayName": "Seunghwan Oh",
      "userId": "10114488339256114508"
     },
     "user_tz": -540
    },
    "id": "z-XVoPVcI6s3",
    "outputId": "02f4cb3d-1a10-452e-f7bd-f139f8f4b2b3"
   },
   "outputs": [
    {
     "name": "stdout",
     "output_type": "stream",
     "text": [
      "10\n",
      "-------\n",
      "20\n",
      "-------\n",
      "30\n",
      "-------\n"
     ]
    }
   ],
   "source": [
    "print(10)\n",
    "print(\"-------\")\n",
    "print(20)\n",
    "print(\"-------\")\n",
    "print(30)\n",
    "print(\"-------\")"
   ]
  },
  {
   "cell_type": "code",
   "execution_count": 11,
   "metadata": {
    "scrolled": true
   },
   "outputs": [
    {
     "name": "stdout",
     "output_type": "stream",
     "text": [
      "10\n",
      "-------\n",
      "20\n",
      "-------\n",
      "30\n",
      "-------\n"
     ]
    }
   ],
   "source": [
    "for i in range(1,4):\n",
    "    print(i*10);print(\"-------\")"
   ]
  },
  {
   "cell_type": "markdown",
   "metadata": {
    "id": "0oFn1hEnI-Y4"
   },
   "source": [
    "09\n",
    "\n",
    "다음 코드를 for문으로 작성하라.\n",
    "\n",
    "```\n",
    "print(\"++++\")\n",
    "print(10)\n",
    "print(20)\n",
    "print(30)\n",
    "```"
   ]
  },
  {
   "cell_type": "code",
   "execution_count": 12,
   "metadata": {
    "colab": {
     "base_uri": "https://localhost:8080/"
    },
    "executionInfo": {
     "elapsed": 5,
     "status": "ok",
     "timestamp": 1680854382685,
     "user": {
      "displayName": "Seunghwan Oh",
      "userId": "10114488339256114508"
     },
     "user_tz": -540
    },
    "id": "2EHBT0GUJAa3",
    "outputId": "823ddc47-22b9-45d1-bd13-9907b5372ab9"
   },
   "outputs": [
    {
     "name": "stdout",
     "output_type": "stream",
     "text": [
      "++++\n",
      "10\n",
      "20\n",
      "30\n"
     ]
    }
   ],
   "source": [
    "print(\"++++\")\n",
    "print(10)\n",
    "print(20)\n",
    "print(30)"
   ]
  },
  {
   "cell_type": "code",
   "execution_count": 14,
   "metadata": {},
   "outputs": [
    {
     "name": "stdout",
     "output_type": "stream",
     "text": [
      "++++\n",
      "10\n",
      "20\n",
      "30\n"
     ]
    }
   ],
   "source": [
    "for i in range(1,4):\n",
    "    if i == 1:\n",
    "        print(\"++++\");print(i*10)\n",
    "    else:\n",
    "        print(i*10) "
   ]
  },
  {
   "cell_type": "markdown",
   "metadata": {
    "id": "s27YnAUAJB1q"
   },
   "source": [
    "10\n",
    "\n",
    "다음 코드를 for문으로 작성하라.\n",
    "\n",
    "```\n",
    "print(\"-------\")\n",
    "print(\"-------\")\n",
    "print(\"-------\")\n",
    "print(\"-------\")\n",
    "```"
   ]
  },
  {
   "cell_type": "code",
   "execution_count": 15,
   "metadata": {
    "colab": {
     "base_uri": "https://localhost:8080/"
    },
    "executionInfo": {
     "elapsed": 3,
     "status": "ok",
     "timestamp": 1680854412724,
     "user": {
      "displayName": "Seunghwan Oh",
      "userId": "10114488339256114508"
     },
     "user_tz": -540
    },
    "id": "s5YJV3lDJDwW",
    "outputId": "6e0fd341-8faf-477d-8dfb-8ee993f22112"
   },
   "outputs": [
    {
     "name": "stdout",
     "output_type": "stream",
     "text": [
      "-------\n",
      "-------\n",
      "-------\n",
      "-------\n"
     ]
    }
   ],
   "source": [
    "print(\"-------\")\n",
    "print(\"-------\")\n",
    "print(\"-------\")\n",
    "print(\"-------\")"
   ]
  },
  {
   "cell_type": "code",
   "execution_count": 16,
   "metadata": {},
   "outputs": [
    {
     "name": "stdout",
     "output_type": "stream",
     "text": [
      "-------\n",
      "-------\n",
      "-------\n",
      "-------\n"
     ]
    }
   ],
   "source": [
    "for i in range(4):\n",
    "    print(\"-------\")"
   ]
  },
  {
   "cell_type": "markdown",
   "metadata": {
    "id": "UvtyvvC0JH5i"
   },
   "source": [
    "11\n",
    "\n",
    "다음과 같이 판매가가 저장된 리스트가 있을 때 부가세가 포함된 가격을 for 문을 사용해서 화면에 출력하라. 단 부가세는 10원으로 가정한다.\n",
    "\n",
    "```\n",
    "리스트 = [100, 200, 300]\n",
    "```\n",
    "```\n",
    "110\n",
    "210\n",
    "310\n",
    "```"
   ]
  },
  {
   "cell_type": "code",
   "execution_count": null,
   "metadata": {
    "colab": {
     "base_uri": "https://localhost:8080/"
    },
    "executionInfo": {
     "elapsed": 2,
     "status": "ok",
     "timestamp": 1681086067709,
     "user": {
      "displayName": "Seunghwan Oh",
      "userId": "10114488339256114508"
     },
     "user_tz": -540
    },
    "id": "VDjvFSV3JMHP",
    "outputId": "fe376271-ae36-4c9b-8261-dc6f5eb5eb28"
   },
   "outputs": [],
   "source": []
  },
  {
   "cell_type": "markdown",
   "metadata": {
    "id": "9vHlClebJNW_"
   },
   "source": [
    "12\n",
    "\n",
    "for 문을 사용해서 리스트에 저장된 값을 다음과 같이 출력하라.\n",
    "```\n",
    "리스트 = [\"김밥\", \"라면\", \"튀김\"]\n",
    "```\n",
    "```\n",
    "오늘의 메뉴: 김밥\n",
    "오늘의 메뉴: 라면\n",
    "오늘의 메뉴: 튀김\n",
    "```"
   ]
  },
  {
   "cell_type": "code",
   "execution_count": null,
   "metadata": {
    "colab": {
     "base_uri": "https://localhost:8080/"
    },
    "executionInfo": {
     "elapsed": 4,
     "status": "ok",
     "timestamp": 1681086125148,
     "user": {
      "displayName": "Seunghwan Oh",
      "userId": "10114488339256114508"
     },
     "user_tz": -540
    },
    "id": "cRjsTI40JP-n",
    "outputId": "1ae12d61-9341-403d-9288-bfd57c1e9995"
   },
   "outputs": [],
   "source": []
  },
  {
   "cell_type": "markdown",
   "metadata": {
    "id": "ta3rV3l5JSAp"
   },
   "source": [
    "13\n",
    "\n",
    "리스트에 주식 종목이름이 저장돼 있다.\n",
    "\n",
    "```\n",
    "리스트 = [\"SK하이닉스\", \"삼성전자\", \"LG전자\"]\n",
    "```\n",
    "\n",
    "저장된 문자열의 길이를 다음과 같이 출력하라.\n",
    "```\n",
    "6\n",
    "4\n",
    "4\n",
    "```"
   ]
  },
  {
   "cell_type": "code",
   "execution_count": null,
   "metadata": {
    "colab": {
     "base_uri": "https://localhost:8080/"
    },
    "executionInfo": {
     "elapsed": 9,
     "status": "ok",
     "timestamp": 1681086191395,
     "user": {
      "displayName": "Seunghwan Oh",
      "userId": "10114488339256114508"
     },
     "user_tz": -540
    },
    "id": "sUHH3BZVJVU-",
    "outputId": "9438d06e-5df5-425f-a187-63bbca62cd4a"
   },
   "outputs": [],
   "source": []
  },
  {
   "cell_type": "markdown",
   "metadata": {
    "id": "a2CPgXHkJW9L"
   },
   "source": [
    "14\n",
    "\n",
    "리스트에는 동물이름이 문자열로 저장돼 있다.\n",
    "\n",
    "```\n",
    "리스트 = ['dog', 'cat', 'parrot']\n",
    "```\n",
    "\n",
    "동물 이름과 글자수를 다음과 같이 출력하라.\n",
    "\n",
    "```\n",
    "dog 3\n",
    "cat 3\n",
    "parrot 6\n",
    "```"
   ]
  },
  {
   "cell_type": "code",
   "execution_count": null,
   "metadata": {
    "colab": {
     "base_uri": "https://localhost:8080/"
    },
    "executionInfo": {
     "elapsed": 5,
     "status": "ok",
     "timestamp": 1681086218815,
     "user": {
      "displayName": "Seunghwan Oh",
      "userId": "10114488339256114508"
     },
     "user_tz": -540
    },
    "id": "EWHBV3YaJdLn",
    "outputId": "9575e5d8-368a-4862-f7a8-7eb2d3dcc4af"
   },
   "outputs": [],
   "source": []
  },
  {
   "cell_type": "markdown",
   "metadata": {
    "id": "F9XzfitTJfKo"
   },
   "source": [
    "15\n",
    "\n",
    "리스트에 동물 이름 저장돼 있다.\n",
    "\n",
    "```\n",
    "리스트 = ['dog', 'cat', 'parrot']\n",
    "```\n",
    "for문을 사용해서 동물 이름의 첫 글자만 출력하라.\n",
    "```\n",
    "d\n",
    "c\n",
    "p\n",
    "```"
   ]
  },
  {
   "cell_type": "code",
   "execution_count": null,
   "metadata": {
    "colab": {
     "base_uri": "https://localhost:8080/"
    },
    "executionInfo": {
     "elapsed": 380,
     "status": "ok",
     "timestamp": 1681086271806,
     "user": {
      "displayName": "Seunghwan Oh",
      "userId": "10114488339256114508"
     },
     "user_tz": -540
    },
    "id": "snm3tWIjJhd-",
    "outputId": "edf1d4bb-44e3-4e7c-caa9-509ea70a9eb4"
   },
   "outputs": [],
   "source": []
  },
  {
   "cell_type": "markdown",
   "metadata": {
    "id": "hAynRh5oJkoC"
   },
   "source": [
    "16\n",
    "\n",
    "리스트에는 세 개의 숫자가 바인딩돼 있다.\n",
    "\n",
    "```\n",
    "리스트 = [1, 2, 3]\n",
    "```\n",
    "\n",
    "for문을 사용해서 다음과 같이 출력하라.\n",
    "```\n",
    "3 x 1\n",
    "3 x 2\n",
    "3 x 3\n",
    "```"
   ]
  },
  {
   "cell_type": "code",
   "execution_count": null,
   "metadata": {
    "colab": {
     "base_uri": "https://localhost:8080/"
    },
    "executionInfo": {
     "elapsed": 10,
     "status": "ok",
     "timestamp": 1681086308922,
     "user": {
      "displayName": "Seunghwan Oh",
      "userId": "10114488339256114508"
     },
     "user_tz": -540
    },
    "id": "bp3yhyIhJnu2",
    "outputId": "e6b2b9ff-489d-4ff7-a972-d503eca5e661"
   },
   "outputs": [],
   "source": []
  },
  {
   "cell_type": "markdown",
   "metadata": {
    "id": "YQVozpP8JpUa"
   },
   "source": [
    "17\n",
    "\n",
    "리스트에는 세 개의 숫자가 바인딩돼 있다.\n",
    "\n",
    "```\n",
    "리스트 = [1, 2, 3]\n",
    "```\n",
    "for문을 사용해서 다음과 같이 출력하라.\n",
    "```\n",
    "3 x 1 = 3\n",
    "3 x 2 = 6\n",
    "3 x 3 = 9\n",
    "```"
   ]
  },
  {
   "cell_type": "code",
   "execution_count": null,
   "metadata": {
    "colab": {
     "base_uri": "https://localhost:8080/"
    },
    "executionInfo": {
     "elapsed": 2,
     "status": "ok",
     "timestamp": 1681086344075,
     "user": {
      "displayName": "Seunghwan Oh",
      "userId": "10114488339256114508"
     },
     "user_tz": -540
    },
    "id": "nBz6rgCmJsjG",
    "outputId": "616fa0d7-dafb-478f-e866-20a015c57b22"
   },
   "outputs": [],
   "source": []
  },
  {
   "cell_type": "markdown",
   "metadata": {
    "id": "E8QtxaNXJtn6"
   },
   "source": [
    "18\n",
    "\n",
    "리스트에는 네 개의 문자열이 바인딩돼 있다.\n",
    "\n",
    "```\n",
    "리스트 = [\"가\", \"나\", \"다\", \"라\"]\n",
    "```\n",
    "for문을 사용해서 다음과 같이 출력하라.\n",
    "```\n",
    "나\n",
    "다\n",
    "라\n",
    "```"
   ]
  },
  {
   "cell_type": "code",
   "execution_count": null,
   "metadata": {
    "colab": {
     "base_uri": "https://localhost:8080/"
    },
    "executionInfo": {
     "elapsed": 2,
     "status": "ok",
     "timestamp": 1681086438087,
     "user": {
      "displayName": "Seunghwan Oh",
      "userId": "10114488339256114508"
     },
     "user_tz": -540
    },
    "id": "X7K7V6LCJwuO",
    "outputId": "9dd44c11-90df-4ceb-fcf6-24ce247b0b93"
   },
   "outputs": [],
   "source": []
  },
  {
   "cell_type": "markdown",
   "metadata": {
    "id": "4iJw6hJ4Jxzv"
   },
   "source": [
    "19\n",
    "\n",
    "리스트에는 네 개의 문자열이 바인딩돼 있다.\n",
    "```\n",
    "리스트 = [\"가\", \"나\", \"다\", \"라\"]\n",
    "```\n",
    "for문을 사용해서 다음과 같이 출력하라.\n",
    "```\n",
    "가\n",
    "다\n",
    "```"
   ]
  },
  {
   "cell_type": "code",
   "execution_count": null,
   "metadata": {
    "colab": {
     "base_uri": "https://localhost:8080/"
    },
    "executionInfo": {
     "elapsed": 2,
     "status": "ok",
     "timestamp": 1681086503850,
     "user": {
      "displayName": "Seunghwan Oh",
      "userId": "10114488339256114508"
     },
     "user_tz": -540
    },
    "id": "E4cprX7uJz8G",
    "outputId": "0ebd5ab0-3615-43a2-adda-5d2ad8237537"
   },
   "outputs": [],
   "source": []
  },
  {
   "cell_type": "markdown",
   "metadata": {
    "id": "epf3OrxVJ1HF"
   },
   "source": [
    "20\n",
    "\n",
    "리스트에는 네 개의 문자열이 바인딩돼 있다.\n",
    "\n",
    "```\n",
    "리스트 = [\"가\", \"나\", \"다\", \"라\"]\n",
    "```\n",
    "for문을 사용해서 다음과 같이 출력하라.\n",
    "```\n",
    "라\n",
    "다\n",
    "나\n",
    "가\n",
    "```"
   ]
  },
  {
   "cell_type": "code",
   "execution_count": null,
   "metadata": {
    "colab": {
     "base_uri": "https://localhost:8080/"
    },
    "executionInfo": {
     "elapsed": 406,
     "status": "ok",
     "timestamp": 1681086564918,
     "user": {
      "displayName": "Seunghwan Oh",
      "userId": "10114488339256114508"
     },
     "user_tz": -540
    },
    "id": "7CwSxNumJ3LW",
    "outputId": "875e4427-74b9-4f08-b74f-2913b5e2ecd6"
   },
   "outputs": [],
   "source": []
  },
  {
   "cell_type": "markdown",
   "metadata": {
    "id": "pE9fIqHDJ9s0"
   },
   "source": [
    "21\n",
    "\n",
    "리스트에는 네 개의 정수가 저장돼 있다.\n",
    "\n",
    "```\n",
    "리스트 = [3, -20, -3, 44]\n",
    "```\n",
    "\n",
    "for문을 사용해서 리스트의 음수를 출력하라.\n",
    "```\n",
    "-20\n",
    "-3\n",
    "```"
   ]
  },
  {
   "cell_type": "code",
   "execution_count": null,
   "metadata": {
    "colab": {
     "base_uri": "https://localhost:8080/"
    },
    "executionInfo": {
     "elapsed": 5,
     "status": "ok",
     "timestamp": 1681088732286,
     "user": {
      "displayName": "Seunghwan Oh",
      "userId": "10114488339256114508"
     },
     "user_tz": -540
    },
    "id": "dqe1ETKvKAlG",
    "outputId": "b1fdf361-ccf6-4173-b2b4-a6c256042e67"
   },
   "outputs": [],
   "source": []
  },
  {
   "cell_type": "markdown",
   "metadata": {
    "id": "rPp1HHYqKCP0"
   },
   "source": [
    "22\n",
    "\n",
    "for문을 사용해서 3의 배수만을 출력하라.\n",
    "\n",
    "```\n",
    "리스트 = [3, 100, 23, 44]\n",
    "```\n",
    "```\n",
    "3\n",
    "```"
   ]
  },
  {
   "cell_type": "code",
   "execution_count": null,
   "metadata": {
    "colab": {
     "base_uri": "https://localhost:8080/"
    },
    "executionInfo": {
     "elapsed": 389,
     "status": "ok",
     "timestamp": 1681088767357,
     "user": {
      "displayName": "Seunghwan Oh",
      "userId": "10114488339256114508"
     },
     "user_tz": -540
    },
    "id": "WLQe83TpKE_1",
    "outputId": "17bfcb56-ae41-4f77-9007-0bdb6234102a"
   },
   "outputs": [],
   "source": []
  },
  {
   "cell_type": "markdown",
   "metadata": {
    "id": "sUimQT4sKGpf"
   },
   "source": [
    "23\n",
    "\n",
    "리스트에서 20 보다 작은 3의 배수를 출력하라\n",
    "```\n",
    "리스트 = [13, 21, 12, 14, 30, 18]\n",
    "```\n",
    "```\n",
    "12\n",
    "18\n",
    "```"
   ]
  },
  {
   "cell_type": "code",
   "execution_count": null,
   "metadata": {
    "colab": {
     "base_uri": "https://localhost:8080/"
    },
    "executionInfo": {
     "elapsed": 4,
     "status": "ok",
     "timestamp": 1681088807913,
     "user": {
      "displayName": "Seunghwan Oh",
      "userId": "10114488339256114508"
     },
     "user_tz": -540
    },
    "id": "APlCYIu_KJN0",
    "outputId": "cc4a8428-a51f-4301-de08-7df92d38f061"
   },
   "outputs": [],
   "source": []
  },
  {
   "cell_type": "markdown",
   "metadata": {
    "id": "4s0rksTRKKNS"
   },
   "source": [
    "24\n",
    "\n",
    "리스트에서 세 글자 이상의 문자를 화면에 출력하라\n",
    "\n",
    "```\n",
    "리스트 = [\"I\", \"study\", \"python\", \"language\", \"!\"]\n",
    "```\n",
    "```\n",
    "study\n",
    "python\n",
    "language\n",
    "```"
   ]
  },
  {
   "cell_type": "code",
   "execution_count": null,
   "metadata": {
    "colab": {
     "base_uri": "https://localhost:8080/"
    },
    "executionInfo": {
     "elapsed": 2,
     "status": "ok",
     "timestamp": 1681088849923,
     "user": {
      "displayName": "Seunghwan Oh",
      "userId": "10114488339256114508"
     },
     "user_tz": -540
    },
    "id": "LtTfqvmcKMzU",
    "outputId": "50d1b876-ae12-4ac4-c42b-b8c3b34d9601"
   },
   "outputs": [],
   "source": []
  },
  {
   "cell_type": "markdown",
   "metadata": {
    "id": "c5I7ebg9KOuC"
   },
   "source": [
    "25\n",
    "\n",
    "리스트에서 대문자만 화면에 출력하라.\n",
    "\n",
    "```\n",
    "리스트 = [\"A\", \"b\", \"c\", \"D\"]\n",
    "```\n",
    "```\n",
    "A\n",
    "D\n",
    "```\n",
    "(참고) isupper() 메서드는 대문자 여부를 판별합니다.\n",
    "```\n",
    ">> 변수 = \"A\"\n",
    ">> 변수.isupper()\n",
    "True\n",
    ">> 변수 = \"a\"\n",
    ">> 변수.isupper()\n",
    "False\n",
    "```"
   ]
  },
  {
   "cell_type": "code",
   "execution_count": null,
   "metadata": {
    "colab": {
     "base_uri": "https://localhost:8080/"
    },
    "executionInfo": {
     "elapsed": 387,
     "status": "ok",
     "timestamp": 1681088963974,
     "user": {
      "displayName": "Seunghwan Oh",
      "userId": "10114488339256114508"
     },
     "user_tz": -540
    },
    "id": "onxEPPu0KTIE",
    "outputId": "b7361b3e-ab07-4a14-9981-6bf13f361513"
   },
   "outputs": [],
   "source": []
  },
  {
   "cell_type": "markdown",
   "metadata": {
    "id": "pohlP-hLKWR4"
   },
   "source": [
    "26\n",
    "\n",
    "리스트에서 소문자만 화면에 출력하라.\n",
    "\n",
    "```\n",
    "리스트 = [\"A\", \"b\", \"c\", \"D\"]\n",
    "```\n",
    "```\n",
    "b\n",
    "c\n",
    "```"
   ]
  },
  {
   "cell_type": "code",
   "execution_count": null,
   "metadata": {
    "colab": {
     "base_uri": "https://localhost:8080/"
    },
    "executionInfo": {
     "elapsed": 9,
     "status": "ok",
     "timestamp": 1681088982916,
     "user": {
      "displayName": "Seunghwan Oh",
      "userId": "10114488339256114508"
     },
     "user_tz": -540
    },
    "id": "fAWX8SMkKZaz",
    "outputId": "e0c19b45-23f2-4fe7-f2af-869827dd4ad2"
   },
   "outputs": [],
   "source": []
  },
  {
   "cell_type": "markdown",
   "metadata": {
    "id": "Ha1hzXzgKa4-"
   },
   "source": [
    "27\n",
    "\n",
    "이름의 첫 글자를 대문자로 변경해서 출력하라.\n",
    "\n",
    "```\n",
    "리스트 = ['dog', 'cat', 'parrot']\n",
    "```\n",
    "```\n",
    "Dog\n",
    "Cat\n",
    "Parrot\n",
    "```\n",
    "(참고) upper() 메서드는 문자열을 대문자로 변경합니다.\n",
    "```\n",
    ">> 변수 = \"a\"\n",
    ">> a.upper()\n",
    "A\n",
    ">> 변수 = \"abc\"\n",
    ">> 변수.upper()\n",
    "ABC\n",
    "```"
   ]
  },
  {
   "cell_type": "code",
   "execution_count": null,
   "metadata": {
    "colab": {
     "base_uri": "https://localhost:8080/"
    },
    "executionInfo": {
     "elapsed": 6,
     "status": "ok",
     "timestamp": 1681089060618,
     "user": {
      "displayName": "Seunghwan Oh",
      "userId": "10114488339256114508"
     },
     "user_tz": -540
    },
    "id": "QI-6JVfEKesL",
    "outputId": "958bf731-41b1-4c38-92ae-d29772b44d36"
   },
   "outputs": [],
   "source": []
  },
  {
   "cell_type": "markdown",
   "metadata": {
    "id": "K6BlXeW-KgkB"
   },
   "source": [
    "28\n",
    "\n",
    "파일 이름이 저장된 리스트에서 확장자를 제거하고 파일 이름만 화면에 출력하라. (힌트: split() 메서드)\n",
    "\n",
    "```\n",
    "리스트 = ['hello.py', 'ex01.py', 'intro.hwp']\n",
    "```\n",
    "```\n",
    "hello\n",
    "ex01\n",
    "intro\n",
    "```"
   ]
  },
  {
   "cell_type": "code",
   "execution_count": null,
   "metadata": {
    "colab": {
     "base_uri": "https://localhost:8080/"
    },
    "executionInfo": {
     "elapsed": 2,
     "status": "ok",
     "timestamp": 1681089177982,
     "user": {
      "displayName": "Seunghwan Oh",
      "userId": "10114488339256114508"
     },
     "user_tz": -540
    },
    "id": "6qUacxDKKku7",
    "outputId": "ddbf4522-a741-4917-ec82-f3033b7d5ea9"
   },
   "outputs": [],
   "source": []
  },
  {
   "cell_type": "markdown",
   "metadata": {
    "id": "W-AMGKPBKl-5"
   },
   "source": [
    "29\n",
    "파일 이름이 저장된 리스트에서 확장자가 .h인 파일 이름을 출력하라.\n",
    "\n",
    "```\n",
    "리스트 = ['intra.h', 'intra.c', 'define.h', 'run.py']\n",
    "```\n",
    "```\n",
    "intra.h\n",
    "define.h\n",
    "```"
   ]
  },
  {
   "cell_type": "code",
   "execution_count": null,
   "metadata": {
    "colab": {
     "base_uri": "https://localhost:8080/"
    },
    "executionInfo": {
     "elapsed": 4,
     "status": "ok",
     "timestamp": 1681089281747,
     "user": {
      "displayName": "Seunghwan Oh",
      "userId": "10114488339256114508"
     },
     "user_tz": -540
    },
    "id": "RNTWAoItKoV7",
    "outputId": "261de7c7-8918-4f66-b9d6-b35c31f27f76"
   },
   "outputs": [],
   "source": []
  },
  {
   "cell_type": "markdown",
   "metadata": {
    "id": "GxnB0sOfKpZx"
   },
   "source": [
    "30\n",
    "파일 이름이 저장된 리스트에서 확장자가 .h나 .c인 파일을 화면에 출력하라.\n",
    "\n",
    "```\n",
    "리스트 = ['intra.h', 'intra.c', 'define.h', 'run.py']\n",
    "```\n",
    "```\n",
    "intra.h\n",
    "intra.c\n",
    "define.h\n",
    "```"
   ]
  },
  {
   "cell_type": "code",
   "execution_count": null,
   "metadata": {
    "colab": {
     "base_uri": "https://localhost:8080/"
    },
    "executionInfo": {
     "elapsed": 3,
     "status": "ok",
     "timestamp": 1681089318226,
     "user": {
      "displayName": "Seunghwan Oh",
      "userId": "10114488339256114508"
     },
     "user_tz": -540
    },
    "id": "gw7SzLG3KuNa",
    "outputId": "5dfd33d4-bf7e-4ce8-dde8-3d88c0c43a34"
   },
   "outputs": [],
   "source": []
  },
  {
   "cell_type": "markdown",
   "metadata": {
    "id": "N86eI1PPKyP-"
   },
   "source": [
    "31\n",
    "\n",
    "for문과 range 구문을 사용해서 0~99까지 한 라인에 하나씩 순차적으로 출력하는 프로그램을 작성하라."
   ]
  },
  {
   "cell_type": "code",
   "execution_count": null,
   "metadata": {
    "colab": {
     "base_uri": "https://localhost:8080/"
    },
    "executionInfo": {
     "elapsed": 444,
     "status": "ok",
     "timestamp": 1681090370856,
     "user": {
      "displayName": "Seunghwan Oh",
      "userId": "10114488339256114508"
     },
     "user_tz": -540
    },
    "id": "5W6zECT9Kz-S",
    "outputId": "dab859eb-0ba2-4162-bf26-8747b8f7d367"
   },
   "outputs": [],
   "source": []
  },
  {
   "cell_type": "markdown",
   "metadata": {
    "id": "OLQV0U2tK0pv"
   },
   "source": [
    "32\n",
    "\n",
    "월드컵은 4년에 한 번 개최된다. range()를 사용하여 2002~2050년까지 중 월드컵이 개최되는 연도를 출력하라.\n",
    "\n",
    "```\n",
    "2002\n",
    "2006\n",
    "2010\n",
    "...\n",
    "2042\n",
    "2046\n",
    "2050\n",
    "```\n",
    "참고) range의 세번 째 파라미터는 증감폭을 결정합니다.\n",
    "```\n",
    ">> print(list(range(0, 10, 2)))\n",
    "[0, 2, 4, 6, 8]\n",
    "```"
   ]
  },
  {
   "cell_type": "code",
   "execution_count": null,
   "metadata": {
    "colab": {
     "base_uri": "https://localhost:8080/"
    },
    "executionInfo": {
     "elapsed": 9,
     "status": "ok",
     "timestamp": 1681090454464,
     "user": {
      "displayName": "Seunghwan Oh",
      "userId": "10114488339256114508"
     },
     "user_tz": -540
    },
    "id": "xwcDf1hlK5Mq",
    "outputId": "ff9957bb-9e90-45ea-eee2-88103a448b29"
   },
   "outputs": [],
   "source": []
  },
  {
   "cell_type": "markdown",
   "metadata": {
    "id": "cd3f89TZK65s"
   },
   "source": [
    "33\n",
    "\n",
    "1부터 30까지의 숫자 중 3의 배수를 출력하라.\n",
    "\n",
    "```\n",
    "3 \n",
    "6 \n",
    "9 \n",
    "12 \n",
    "15 \n",
    "18 \n",
    "21 \n",
    "24 \n",
    "27 \n",
    "30\n",
    "```"
   ]
  },
  {
   "cell_type": "code",
   "execution_count": null,
   "metadata": {
    "colab": {
     "base_uri": "https://localhost:8080/"
    },
    "executionInfo": {
     "elapsed": 3,
     "status": "ok",
     "timestamp": 1681090483012,
     "user": {
      "displayName": "Seunghwan Oh",
      "userId": "10114488339256114508"
     },
     "user_tz": -540
    },
    "id": "6e8A_2p-K-n6",
    "outputId": "8e98416e-31aa-473f-8356-8ae353692d42"
   },
   "outputs": [],
   "source": []
  },
  {
   "cell_type": "markdown",
   "metadata": {
    "id": "Nc5S2O9CLAGv"
   },
   "source": [
    "34\n",
    "\n",
    "99부터 0까지 1씩 감소하는 숫자들을, 한 라인에 하나씩 출력하라."
   ]
  },
  {
   "cell_type": "code",
   "execution_count": null,
   "metadata": {
    "colab": {
     "base_uri": "https://localhost:8080/"
    },
    "executionInfo": {
     "elapsed": 412,
     "status": "ok",
     "timestamp": 1681090511992,
     "user": {
      "displayName": "Seunghwan Oh",
      "userId": "10114488339256114508"
     },
     "user_tz": -540
    },
    "id": "pZNdmathLBNy",
    "outputId": "bd3e6a5e-eb42-4360-e1ce-c94e70900b0e"
   },
   "outputs": [],
   "source": []
  },
  {
   "cell_type": "markdown",
   "metadata": {
    "id": "JgddzXfPLBk1"
   },
   "source": [
    "35\n",
    "\n",
    "for문을 사용해서 아래와 같이 출력하라.\n",
    "\n",
    "```\n",
    "0.0\n",
    "0.1\n",
    "0.2\n",
    "0.3\n",
    "0.4\n",
    "0.5\n",
    "...\n",
    "0.9\n",
    "```"
   ]
  },
  {
   "cell_type": "code",
   "execution_count": null,
   "metadata": {
    "colab": {
     "base_uri": "https://localhost:8080/"
    },
    "executionInfo": {
     "elapsed": 416,
     "status": "ok",
     "timestamp": 1681090570201,
     "user": {
      "displayName": "Seunghwan Oh",
      "userId": "10114488339256114508"
     },
     "user_tz": -540
    },
    "id": "i23O197gLHgS",
    "outputId": "6dc95fc1-0e2e-4a0d-9cc3-0e2d04af6afe"
   },
   "outputs": [],
   "source": []
  },
  {
   "cell_type": "markdown",
   "metadata": {
    "id": "_06sP3QELH7V"
   },
   "source": [
    "36\n",
    "\n",
    "구구단 3단을 출력하라.\n",
    "```\n",
    "3x1 = 3\n",
    "3x2 = 6\n",
    "3x3 = 9\n",
    "3x4 = 12\n",
    "3x5 = 15\n",
    "3x6 = 18\n",
    "3x7 = 21\n",
    "3x8 = 24\n",
    "3x9 = 27\n",
    "```"
   ]
  },
  {
   "cell_type": "code",
   "execution_count": null,
   "metadata": {
    "colab": {
     "base_uri": "https://localhost:8080/"
    },
    "executionInfo": {
     "elapsed": 9,
     "status": "ok",
     "timestamp": 1681090633057,
     "user": {
      "displayName": "Seunghwan Oh",
      "userId": "10114488339256114508"
     },
     "user_tz": -540
    },
    "id": "mXlW43ScLLaa",
    "outputId": "acf7ede7-3754-47f2-b165-78aae6d508e0"
   },
   "outputs": [],
   "source": []
  },
  {
   "cell_type": "markdown",
   "metadata": {
    "id": "7pjK7TYCLMYs"
   },
   "source": [
    "37\n",
    "\n",
    "구구단 3단을 출력하라. 단 홀수 번째만 출력한다.\n",
    "\n",
    "```\n",
    "3x1 = 3\n",
    "3x3 = 9\n",
    "3x5 = 15\n",
    "3x7 = 21\n",
    "3x9 = 27\n",
    "```"
   ]
  },
  {
   "cell_type": "code",
   "execution_count": null,
   "metadata": {
    "colab": {
     "base_uri": "https://localhost:8080/"
    },
    "executionInfo": {
     "elapsed": 4,
     "status": "ok",
     "timestamp": 1681090680671,
     "user": {
      "displayName": "Seunghwan Oh",
      "userId": "10114488339256114508"
     },
     "user_tz": -540
    },
    "id": "G4R92NLJLOUh",
    "outputId": "b5b7592d-5037-4d84-ee0b-884d4da640eb"
   },
   "outputs": [],
   "source": []
  },
  {
   "cell_type": "markdown",
   "metadata": {
    "id": "psl-ozEHLPgf"
   },
   "source": [
    "38\n",
    "\n",
    "1~10까지의 숫자에 대해 모두 더한 값을 출력하는 프로그램을 for 문을 사용하여 작성하라.\n",
    "\n",
    "```\n",
    "합 : 55\n",
    "```"
   ]
  },
  {
   "cell_type": "code",
   "execution_count": null,
   "metadata": {
    "colab": {
     "base_uri": "https://localhost:8080/"
    },
    "executionInfo": {
     "elapsed": 9,
     "status": "ok",
     "timestamp": 1681090753993,
     "user": {
      "displayName": "Seunghwan Oh",
      "userId": "10114488339256114508"
     },
     "user_tz": -540
    },
    "id": "7aH2pY9uLSFR",
    "outputId": "3a3e4462-6a0b-4e05-8c58-54271865d867"
   },
   "outputs": [],
   "source": []
  },
  {
   "cell_type": "markdown",
   "metadata": {
    "id": "JTW1VG-PLSij"
   },
   "source": [
    "39\n",
    "\n",
    "1~10까지의 숫자 중 모든 홀수의 합을 출력하는 프로그램을 for 문을 사용하여 작성하라.\n",
    "\n",
    "```\n",
    "합: 25\n",
    "```"
   ]
  },
  {
   "cell_type": "code",
   "execution_count": null,
   "metadata": {
    "colab": {
     "base_uri": "https://localhost:8080/"
    },
    "executionInfo": {
     "elapsed": 2,
     "status": "ok",
     "timestamp": 1681090778234,
     "user": {
      "displayName": "Seunghwan Oh",
      "userId": "10114488339256114508"
     },
     "user_tz": -540
    },
    "id": "RG66BTsiLVfh",
    "outputId": "c42948f7-06ea-4993-c375-f3f488fd4566"
   },
   "outputs": [],
   "source": []
  },
  {
   "cell_type": "markdown",
   "metadata": {
    "id": "rU0Uwl-xLYFJ"
   },
   "source": [
    "40\n",
    "\n",
    "1~10까지의 숫자를 모두 곱한 값을 출력하는 프로그램을 for 문을 사용하여 작성하라."
   ]
  },
  {
   "cell_type": "code",
   "execution_count": null,
   "metadata": {
    "colab": {
     "base_uri": "https://localhost:8080/"
    },
    "executionInfo": {
     "elapsed": 9,
     "status": "ok",
     "timestamp": 1681090853116,
     "user": {
      "displayName": "Seunghwan Oh",
      "userId": "10114488339256114508"
     },
     "user_tz": -540
    },
    "id": "r5PwKZ_lLY8x",
    "outputId": "457016e9-b931-4c16-bb22-c2f4fea73e1c"
   },
   "outputs": [],
   "source": []
  },
  {
   "cell_type": "markdown",
   "metadata": {
    "id": "zIpAlzdoLbTY"
   },
   "source": [
    "41\n",
    "\n",
    "아래와 같이 리스트의 데이터를 출력하라. 단, for문과 range문을 사용하라.\n",
    "```\n",
    "price_list = [32100, 32150, 32000, 32500]\n",
    "32100\n",
    "32150\n",
    "32000\n",
    "32500\n",
    "```"
   ]
  },
  {
   "cell_type": "code",
   "execution_count": null,
   "metadata": {
    "colab": {
     "base_uri": "https://localhost:8080/"
    },
    "executionInfo": {
     "elapsed": 5,
     "status": "ok",
     "timestamp": 1681092428414,
     "user": {
      "displayName": "Seunghwan Oh",
      "userId": "10114488339256114508"
     },
     "user_tz": -540
    },
    "id": "w6QfFpJXLhct",
    "outputId": "9c9061b5-b87f-4f95-e6c5-e02feb6efb07"
   },
   "outputs": [],
   "source": []
  },
  {
   "cell_type": "markdown",
   "metadata": {
    "id": "bsViAc6pLi2M"
   },
   "source": [
    "42\n",
    "\n",
    "아래와 같이 리스트의 데이터를 출력하라. 단, for문과 range문을 사용하라.\n",
    "\n",
    "```\n",
    "price_list = [32100, 32150, 32000, 32500]\n",
    "0 32100\n",
    "1 32150\n",
    "2 32000\n",
    "3 32500\n",
    "```"
   ]
  },
  {
   "cell_type": "code",
   "execution_count": null,
   "metadata": {
    "colab": {
     "base_uri": "https://localhost:8080/"
    },
    "executionInfo": {
     "elapsed": 391,
     "status": "ok",
     "timestamp": 1681092551630,
     "user": {
      "displayName": "Seunghwan Oh",
      "userId": "10114488339256114508"
     },
     "user_tz": -540
    },
    "id": "Eo19w7kzLjTY",
    "outputId": "2735a3a6-b299-496e-eefd-3ddb87aeb308"
   },
   "outputs": [],
   "source": []
  },
  {
   "cell_type": "markdown",
   "metadata": {
    "id": "PF7H_7H_LkOU"
   },
   "source": [
    "43\n",
    "\n",
    "아래와 같이 리스트의 데이터를 출력하라. 단, for문과 range문을 사용하라.\n",
    "\n",
    "```\n",
    "price_list = [32100, 32150, 32000, 32500]\n",
    "3 32100\n",
    "2 32150\n",
    "1 32000\n",
    "0 32500\n",
    "```"
   ]
  },
  {
   "cell_type": "code",
   "execution_count": null,
   "metadata": {
    "colab": {
     "base_uri": "https://localhost:8080/"
    },
    "executionInfo": {
     "elapsed": 4,
     "status": "ok",
     "timestamp": 1681092624705,
     "user": {
      "displayName": "Seunghwan Oh",
      "userId": "10114488339256114508"
     },
     "user_tz": -540
    },
    "id": "ZA1kpp1nLnPB",
    "outputId": "3c448e15-7463-4551-ee6b-8974afc757c2"
   },
   "outputs": [],
   "source": []
  },
  {
   "cell_type": "markdown",
   "metadata": {
    "id": "_L9G3mUkLpyx"
   },
   "source": [
    "44\n",
    "\n",
    "아래와 같이 리스트의 데이터를 출력하라. 단, for문과 range문을 사용하라.\n",
    "\n",
    "```\n",
    "price_list = [32100, 32150, 32000, 32500]\n",
    "100 32150\n",
    "110 32000\n",
    "120 32500\n",
    "```"
   ]
  },
  {
   "cell_type": "code",
   "execution_count": null,
   "metadata": {
    "colab": {
     "base_uri": "https://localhost:8080/"
    },
    "executionInfo": {
     "elapsed": 6,
     "status": "ok",
     "timestamp": 1681092771591,
     "user": {
      "displayName": "Seunghwan Oh",
      "userId": "10114488339256114508"
     },
     "user_tz": -540
    },
    "id": "Gbci3jZRLsNw",
    "outputId": "4d5369b5-a9ec-49e4-f568-0c2bfbbe67ca"
   },
   "outputs": [],
   "source": []
  },
  {
   "cell_type": "markdown",
   "metadata": {
    "id": "8n3XqlXsLtUT"
   },
   "source": [
    "45\n",
    "\n",
    "my_list를 아래와 같이 출력하라.\n",
    "\n",
    "```\n",
    "my_list = [\"가\", \"나\", \"다\", \"라\"]\n",
    "가 나\n",
    "나 다\n",
    "다 라\n",
    "```"
   ]
  },
  {
   "cell_type": "code",
   "execution_count": null,
   "metadata": {
    "colab": {
     "base_uri": "https://localhost:8080/"
    },
    "executionInfo": {
     "elapsed": 2,
     "status": "ok",
     "timestamp": 1681092842937,
     "user": {
      "displayName": "Seunghwan Oh",
      "userId": "10114488339256114508"
     },
     "user_tz": -540
    },
    "id": "ev2lLcsrLvQx",
    "outputId": "f4182277-8c0b-4260-c140-aeeb98a90309"
   },
   "outputs": [],
   "source": []
  },
  {
   "cell_type": "markdown",
   "metadata": {
    "id": "y3_FEeI1Lzba"
   },
   "source": [
    "46\n",
    "\n",
    "리스트를 아래와 같이 출력하라.\n",
    "\n",
    "```\n",
    "my_list = [\"가\", \"나\", \"다\", \"라\", \"마\"]\n",
    "가 나 다\n",
    "나 다 라\n",
    "다 라 마\n",
    "```"
   ]
  },
  {
   "cell_type": "code",
   "execution_count": null,
   "metadata": {
    "colab": {
     "base_uri": "https://localhost:8080/"
    },
    "executionInfo": {
     "elapsed": 446,
     "status": "ok",
     "timestamp": 1681092905639,
     "user": {
      "displayName": "Seunghwan Oh",
      "userId": "10114488339256114508"
     },
     "user_tz": -540
    },
    "id": "QHwzTwexL1fY",
    "outputId": "ca3c9744-37e1-4115-cef0-b014a970c575"
   },
   "outputs": [],
   "source": []
  },
  {
   "cell_type": "markdown",
   "metadata": {
    "id": "VLKZFDnKMBUL"
   },
   "source": [
    "47\n",
    "\n",
    "반복문과 range 함수를 사용해서 my_list를 아래와 같이 출력하라.\n",
    "\n",
    "```\n",
    "my_list = [\"가\", \"나\", \"다\", \"라\"]\n",
    "라 다\n",
    "다 나\n",
    "나 가\n",
    "```"
   ]
  },
  {
   "cell_type": "code",
   "execution_count": null,
   "metadata": {
    "colab": {
     "base_uri": "https://localhost:8080/"
    },
    "executionInfo": {
     "elapsed": 3,
     "status": "ok",
     "timestamp": 1681093000784,
     "user": {
      "displayName": "Seunghwan Oh",
      "userId": "10114488339256114508"
     },
     "user_tz": -540
    },
    "id": "TUfd2eVoMDSY",
    "outputId": "51c94c8b-5b28-4b7f-c3be-bd04cc434a82"
   },
   "outputs": [],
   "source": []
  },
  {
   "cell_type": "markdown",
   "metadata": {
    "id": "tIBwv82dMLMP"
   },
   "source": [
    "48\n",
    "\n",
    "리스트에는 네 개의 정수가 저장되어 있다. 각각의 데이터에 대해서 자신과 우측값과의 차분값을 화면에 출력하라.\n",
    "\n",
    "```\n",
    "my_list = [100, 200, 400, 800]\n",
    "```\n",
    "예를들어 100을 기준으로 우측에 위치한 200과의 차분 값를 화면에 출력하고, 200을 기준으로 우측에 위치한 400과의 차분값을 화면에 출력한다. 이어서 400을 기준으로 우측에 위치한 800과의 차분값을 화면에 출력한다.\n",
    "```\n",
    "100\n",
    "200\n",
    "400\n",
    "```"
   ]
  },
  {
   "cell_type": "code",
   "execution_count": null,
   "metadata": {
    "colab": {
     "base_uri": "https://localhost:8080/"
    },
    "executionInfo": {
     "elapsed": 6,
     "status": "ok",
     "timestamp": 1681093100585,
     "user": {
      "displayName": "Seunghwan Oh",
      "userId": "10114488339256114508"
     },
     "user_tz": -540
    },
    "id": "qON0RdjOMPDX",
    "outputId": "b0292812-a8a8-4d53-85e9-fa584344fe17"
   },
   "outputs": [],
   "source": []
  },
  {
   "cell_type": "markdown",
   "metadata": {
    "id": "CMVVe4tBMQ3D"
   },
   "source": [
    "49\n",
    "\n",
    "리스트에는 6일 간의 종가 데이터가 저장되어 있다. 종가 데이터의 3일 이동 평균을 계산하고 이를 화면에 출력하라.\n",
    "\n",
    "```\n",
    "my_list = [100, 200, 400, 800, 1000, 1300]\n",
    "```\n",
    "첫 번째 줄에는 100, 200, 400의 평균값이 출력된다. 두 번째 줄에는 200, 400, 800의 평균값이 출력된다. 같은 방식으로 나머지 데이터의 평균을 출력한다.\n",
    "```\n",
    "233.33333333333334\n",
    "466.6666666666667\n",
    "733.3333333333334\n",
    "1033.3333333333333\n",
    "```"
   ]
  },
  {
   "cell_type": "code",
   "execution_count": null,
   "metadata": {
    "colab": {
     "base_uri": "https://localhost:8080/"
    },
    "executionInfo": {
     "elapsed": 5,
     "status": "ok",
     "timestamp": 1681093228870,
     "user": {
      "displayName": "Seunghwan Oh",
      "userId": "10114488339256114508"
     },
     "user_tz": -540
    },
    "id": "a1E-LSETMTxf",
    "outputId": "96e59f0c-a86b-4a74-cd06-a622dacf22e6"
   },
   "outputs": [],
   "source": []
  },
  {
   "cell_type": "markdown",
   "metadata": {
    "id": "XKsgaHAzMWGi"
   },
   "source": [
    "50\n",
    "\n",
    "리스트에 5일간의 저가, 고가 정보가 저장돼 있다. 고가와 저가의 차를 변동폭이라고 정의할 때, low, high 두 개의 리스트를 사용해서 5일간의 변동폭을 volatility 리스트에 저장하라.\n",
    "\n",
    "```\n",
    "low_prices  = [100, 200, 400, 800, 1000]\n",
    "high_prices = [150, 300, 430, 880, 1000]\n",
    "```"
   ]
  },
  {
   "cell_type": "code",
   "execution_count": null,
   "metadata": {
    "colab": {
     "base_uri": "https://localhost:8080/"
    },
    "executionInfo": {
     "elapsed": 9,
     "status": "ok",
     "timestamp": 1681093337743,
     "user": {
      "displayName": "Seunghwan Oh",
      "userId": "10114488339256114508"
     },
     "user_tz": -540
    },
    "id": "m6VMgei_91Wt",
    "outputId": "58f7c2f0-ebdb-47aa-a18a-b4546bc16e93"
   },
   "outputs": [],
   "source": []
  }
 ],
 "metadata": {
  "colab": {
   "provenance": []
  },
  "kernelspec": {
   "display_name": "Python 3 (ipykernel)",
   "language": "python",
   "name": "python3"
  },
  "language_info": {
   "codemirror_mode": {
    "name": "ipython",
    "version": 3
   },
   "file_extension": ".py",
   "mimetype": "text/x-python",
   "name": "python",
   "nbconvert_exporter": "python",
   "pygments_lexer": "ipython3",
   "version": "3.8.16"
  }
 },
 "nbformat": 4,
 "nbformat_minor": 1
}
