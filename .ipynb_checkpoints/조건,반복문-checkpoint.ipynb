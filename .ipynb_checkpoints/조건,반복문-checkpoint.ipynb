{
 "cells": [
  {
   "cell_type": "code",
   "execution_count": null,
   "id": "02de86f0",
   "metadata": {},
   "outputs": [],
   "source": [
    "# 실습\n",
    "```\n",
    " -사용자에게 출생년도입력\n",
    " ```\n",
    " ~1924 가장 위대한 세대\n",
    "\n"
   ]
  },
  {
   "cell_type": "code",
   "execution_count": 23,
   "id": "1175fb27",
   "metadata": {},
   "outputs": [
    {
     "name": "stdout",
     "output_type": "stream",
     "text": [
      "출생년도는?1989\n",
      "나는 1989년에 태어나 밀레니얼 세대에 속합니다.\n"
     ]
    }
   ],
   "source": [
    "a = int(input('출생년도는?'))\n",
    "\n",
    "if a <= 1924:\n",
    "    b ='가장 위대한 세대'\n",
    "elif 1925 <= a <1945:\n",
    "    b ='침묵세대'\n",
    "elif 1946 <= a <1964:\n",
    "    b ='베이비붐 세대'\n",
    "elif 1965 <= a <1980:\n",
    "    b ='X세대'\n",
    "elif 1981 <= a <1996:\n",
    "    b ='밀레니얼 세대'\n",
    "elif 1997 <= a:\n",
    "    b ='Z세대'\n",
    "    \n",
    "#print('나는' + str(a) +'년에 태어나 ' + b + '에 속합니다.'\n",
    "print(f'나는 {a}년에 태어나 {b}에 속합니다.')"
   ]
  },
  {
   "cell_type": "code",
   "execution_count": 17,
   "id": "22d5adaf",
   "metadata": {},
   "outputs": [
    {
     "name": "stdout",
     "output_type": "stream",
     "text": [
      "상품금액: 58000\n",
      "결제카드: 현대카드\n",
      "58000,61000\n"
     ]
    }
   ],
   "source": [
    "cost = int(input('상품금액: '))\n",
    "card = input('결제카드: ')\n",
    "\n",
    "if cost > 20000 and card == '현대카드':\n",
    "    배송비 = 3000\n",
    "elif cost >50000 or card == '신한카드':\n",
    "    배송비 = 2000\n",
    "else:\n",
    "    배송비 = 5000\n",
    "    \n",
    "print(f'{cost},{cost +배송비}')"
   ]
  },
  {
   "cell_type": "code",
   "execution_count": 21,
   "id": "4a867eca",
   "metadata": {},
   "outputs": [
    {
     "name": "stdout",
     "output_type": "stream",
     "text": [
      "연도를 입력하세요 2001\n",
      "2001은 윤년이 아니다.\n"
     ]
    }
   ],
   "source": [
    "# 윤년 구하는 조건문\n",
    "year = int(input('연도를 입력하세요 '))\n",
    "\n",
    "if (year % 4 == 0 & year % 100 != 0) | year % 400 ==0:\n",
    "    print(f'{year}은 윤년이다.')\n",
    "else:\n",
    "    print(f'{year}은 윤년이 아니다.')\n",
    "    \n",
    "    "
   ]
  },
  {
   "cell_type": "code",
   "execution_count": 28,
   "id": "5ec60fe9",
   "metadata": {},
   "outputs": [
    {
     "name": "stdout",
     "output_type": "stream",
     "text": [
      "몇단? 8\n",
      "8 X 1 = 8\n",
      "8 X 2 = 16\n",
      "8 X 3 = 24\n",
      "8 X 4 = 32\n",
      "8 X 5 = 40\n",
      "8 X 6 = 48\n",
      "8 X 7 = 56\n",
      "8 X 8 = 64\n",
      "8 X 9 = 72\n"
     ]
    }
   ],
   "source": [
    "#구구단 fot문\n",
    "\n",
    "a = int(input('몇단? '))\n",
    "\n",
    "for i in range(1,10):\n",
    "    print(f'{a} X {i} = {a * i}')"
   ]
  },
  {
   "cell_type": "code",
   "execution_count": 31,
   "id": "1b7f2077",
   "metadata": {},
   "outputs": [
    {
     "name": "stdout",
     "output_type": "stream",
     "text": [
      "몇단? 8\n",
      "8 X 1 = 8\n",
      "8 X 2 = 16\n",
      "8 X 3 = 24\n",
      "8 X 4 = 32\n",
      "8 X 5 = 40\n",
      "8 X 6 = 48\n",
      "8 X 7 = 56\n",
      "8 X 8 = 64\n",
      "8 X 9 = 72\n"
     ]
    }
   ],
   "source": [
    "#구구단 while문\n",
    "a = int(input('몇단? '))\n",
    "\n",
    "i = 1 \n",
    "while i < 10:\n",
    "    print(f'{a} X {i} = {a * i}')\n",
    "    i +=1"
   ]
  },
  {
   "cell_type": "code",
   "execution_count": 33,
   "id": "f8a28ec5",
   "metadata": {},
   "outputs": [
    {
     "name": "stdout",
     "output_type": "stream",
     "text": [
      "몇단? 8\n",
      "8 X 1 = 8\n",
      "8 X 2 = 16\n",
      "8 X 3 = 24\n",
      "8 X 4 = 32\n",
      "8 X 5 = 40\n",
      "8 X 6 = 48\n",
      "8 X 7 = 56\n",
      "8 X 8 = 64\n",
      "8 X 9 = 72\n"
     ]
    }
   ],
   "source": [
    "#구구단 while문2\n",
    "a = int(input('몇단? '))\n",
    "\n",
    "i = 1 \n",
    "while True:\n",
    "    print(f'{a} X {i} = {a * i}')\n",
    "    i +=1\n",
    "    if i ==10:\n",
    "        break"
   ]
  },
  {
   "cell_type": "code",
   "execution_count": 36,
   "id": "9ee7dcd5",
   "metadata": {},
   "outputs": [
    {
     "data": {
      "text/plain": [
       "1683"
      ]
     },
     "execution_count": 36,
     "metadata": {},
     "output_type": "execute_result"
    }
   ],
   "source": [
    "# 1부터 100까지 3의 배수의 합\n",
    "a = 0\n",
    "for i in range(1,100):\n",
    "    if i % 3 == 0:\n",
    "        a+=i\n",
    "a"
   ]
  },
  {
   "cell_type": "code",
   "execution_count": 38,
   "id": "4fa6ce73",
   "metadata": {},
   "outputs": [
    {
     "name": "stdout",
     "output_type": "stream",
     "text": [
      "0,1,2중 어떤 숫자?1\n",
      "성공\n",
      "0,1,2중 어떤 숫자?2\n",
      "0,1,2중 어떤 숫자?0\n"
     ]
    }
   ],
   "source": [
    "for i in range(3):\n",
    "    a = int(input('0,1,2중 어떤 숫자?'))\n",
    "    if a == 0:\n",
    "        break\n",
    "    elif a== 1:\n",
    "        print('성공')\n",
    "        continue\n",
    "    elif a == 2:\n",
    "        continue"
   ]
  },
  {
   "cell_type": "code",
   "execution_count": null,
   "id": "88bd9802",
   "metadata": {},
   "outputs": [],
   "source": []
  }
 ],
 "metadata": {
  "kernelspec": {
   "display_name": "Python 3 (ipykernel)",
   "language": "python",
   "name": "python3"
  },
  "language_info": {
   "codemirror_mode": {
    "name": "ipython",
    "version": 3
   },
   "file_extension": ".py",
   "mimetype": "text/x-python",
   "name": "python",
   "nbconvert_exporter": "python",
   "pygments_lexer": "ipython3",
   "version": "3.8.16"
  }
 },
 "nbformat": 4,
 "nbformat_minor": 5
}
