{
 "cells": [
  {
   "cell_type": "markdown",
   "metadata": {
    "id": "cnn7P_wjUG7b"
   },
   "source": [
    "01 리스트 생성\n",
    "\n",
    "2016년 11월 영화 예매 순위 기준 top3는 다음과 같습니다. 영화 제목을 movie_rank 이름의 리스트에 저장해보세요. (순위 정보는 저장하지 않습니다.)\n",
    "\n",
    "![image.png](data:image/png;base64,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)"
   ]
  },
  {
   "cell_type": "code",
   "execution_count": 1,
   "metadata": {
    "colab": {
     "base_uri": "https://localhost:8080/"
    },
    "executionInfo": {
     "elapsed": 17,
     "status": "ok",
     "timestamp": 1681173940371,
     "user": {
      "displayName": "Seunghwan Oh",
      "userId": "10114488339256114508"
     },
     "user_tz": -540
    },
    "id": "oq0xXQ8WUFgW",
    "outputId": "5e9c5d8a-01e2-47cc-90f1-65e281fa26c6"
   },
   "outputs": [],
   "source": [
    "movie_rank =[\"닥터 스트레인지\",\"스플릿\",\"럭키\"]"
   ]
  },
  {
   "cell_type": "markdown",
   "metadata": {
    "id": "ZKDheVeVURbs"
   },
   "source": [
    "02 리스트에 원소 추가\n",
    "\n",
    "01의 movie_rank 리스트에 \"배트맨\"을 추가하라."
   ]
  },
  {
   "cell_type": "code",
   "execution_count": 3,
   "metadata": {
    "executionInfo": {
     "elapsed": 9,
     "status": "ok",
     "timestamp": 1681173964517,
     "user": {
      "displayName": "Seunghwan Oh",
      "userId": "10114488339256114508"
     },
     "user_tz": -540
    },
    "id": "I7ZkzXAOUShG"
   },
   "outputs": [
    {
     "data": {
      "text/plain": [
       "['닥터 스트레인지', '스플릿', '럭키', '배트맨']"
      ]
     },
     "execution_count": 3,
     "metadata": {},
     "output_type": "execute_result"
    }
   ],
   "source": [
    "movie_rank.append(\"배트맨\")\n",
    "movie_rank"
   ]
  },
  {
   "cell_type": "markdown",
   "metadata": {
    "id": "-235EqTRUTcK"
   },
   "source": [
    "03\n",
    "\n",
    "movie_rank 리스트에는 아래와 같이 네 개의 영화 제목이 바인딩되어 있다. \"슈퍼맨\"을 \"닥터 스트레인지\"와 \"스플릿\" 사이에 추가하라.\n",
    "\n",
    "```\n",
    "movie_rank = ['닥터 스트레인지', '스플릿', '럭키', '배트맨']\n",
    "```"
   ]
  },
  {
   "cell_type": "code",
   "execution_count": 4,
   "metadata": {
    "colab": {
     "base_uri": "https://localhost:8080/"
    },
    "executionInfo": {
     "elapsed": 6,
     "status": "ok",
     "timestamp": 1681174061467,
     "user": {
      "displayName": "Seunghwan Oh",
      "userId": "10114488339256114508"
     },
     "user_tz": -540
    },
    "id": "50ERJ22rUXYj",
    "outputId": "ac4d4528-bd78-4cb9-ae49-a06903de8ea7"
   },
   "outputs": [
    {
     "data": {
      "text/plain": [
       "['닥터 스트레인지', '슈퍼맨', '스플릿', '럭키', '배트맨']"
      ]
     },
     "execution_count": 4,
     "metadata": {},
     "output_type": "execute_result"
    }
   ],
   "source": [
    "movie_rank.insert(1,\"슈퍼맨\")\n",
    "movie_rank"
   ]
  },
  {
   "cell_type": "markdown",
   "metadata": {
    "id": "0c566GyUUX4U"
   },
   "source": [
    "04\n",
    "\n",
    "movie_rank 리스트에서 '럭키'를 삭제하라.\n",
    "\n",
    "```\n",
    "movie_rank = ['닥터 스트레인지', '슈퍼맨', '스플릿', '럭키', '배트맨']\n",
    "```"
   ]
  },
  {
   "cell_type": "code",
   "execution_count": 6,
   "metadata": {
    "colab": {
     "base_uri": "https://localhost:8080/"
    },
    "executionInfo": {
     "elapsed": 4,
     "status": "ok",
     "timestamp": 1681174134379,
     "user": {
      "displayName": "Seunghwan Oh",
      "userId": "10114488339256114508"
     },
     "user_tz": -540
    },
    "id": "d62VvLPSUbFy",
    "outputId": "1397ab4e-d9d8-4cb9-ed15-6327475d856a"
   },
   "outputs": [
    {
     "data": {
      "text/plain": [
       "['닥터 스트레인지', '슈퍼맨', '스플릿', '배트맨']"
      ]
     },
     "execution_count": 6,
     "metadata": {},
     "output_type": "execute_result"
    }
   ],
   "source": [
    "del movie_rank[3]\n",
    "movie_rank"
   ]
  },
  {
   "cell_type": "code",
   "execution_count": 7,
   "metadata": {},
   "outputs": [
    {
     "data": {
      "text/plain": [
       "['닥터 스트레인지', '슈퍼맨', '스플릿', '배트맨']"
      ]
     },
     "execution_count": 7,
     "metadata": {},
     "output_type": "execute_result"
    }
   ],
   "source": [
    "movie_rank = ['닥터 스트레인지', '슈퍼맨', '스플릿', '럭키', '배트맨']\n",
    "movie_rank.remove(\"럭키\")\n",
    "movie_rank"
   ]
  },
  {
   "cell_type": "markdown",
   "metadata": {
    "id": "1-CkmZ1GUcOw"
   },
   "source": [
    "05\n",
    "movie_rank 리스트에서 '스플릿' 과 '배트맨'을 를 삭제하라.\n",
    "\n",
    "```\n",
    "movie_rank = ['닥터 스트레인지', '슈퍼맨', '스플릿', '배트맨']\n",
    "```"
   ]
  },
  {
   "cell_type": "code",
   "execution_count": 9,
   "metadata": {
    "colab": {
     "base_uri": "https://localhost:8080/"
    },
    "executionInfo": {
     "elapsed": 2,
     "status": "ok",
     "timestamp": 1681174184962,
     "user": {
      "displayName": "Seunghwan Oh",
      "userId": "10114488339256114508"
     },
     "user_tz": -540
    },
    "id": "vgBfBWSmUgxq",
    "outputId": "05ec7a92-cd62-4462-dec3-075ab4b5d119"
   },
   "outputs": [
    {
     "data": {
      "text/plain": [
       "['닥터 스트레인지', '슈퍼맨']"
      ]
     },
     "execution_count": 9,
     "metadata": {},
     "output_type": "execute_result"
    }
   ],
   "source": [
    "movie_rank = ['닥터 스트레인지', '슈퍼맨', '스플릿', '배트맨']\n",
    "movie_rank[:2]"
   ]
  },
  {
   "cell_type": "markdown",
   "metadata": {
    "id": "dOBWWRA-UhLY"
   },
   "source": [
    "06\n",
    "\n",
    "lang1과 lang2 리스트가 있을 때 lang1과 lang2의 원소를 모두 갖고 있는 langs 리스트를 만들어라.\n",
    "\n",
    "```\n",
    ">> lang1 = [\"C\", \"C++\", \"JAVA\"]\n",
    ">> lang2 = [\"Python\", \"Go\", \"C#\"]\n",
    "```\n",
    "```\n",
    "실행 예:\n",
    ">> langs\n",
    "['C', 'C++', 'JAVA', 'Python', 'Go', 'C#']\n",
    "```"
   ]
  },
  {
   "cell_type": "code",
   "execution_count": 11,
   "metadata": {
    "colab": {
     "base_uri": "https://localhost:8080/"
    },
    "executionInfo": {
     "elapsed": 1,
     "status": "ok",
     "timestamp": 1681174214581,
     "user": {
      "displayName": "Seunghwan Oh",
      "userId": "10114488339256114508"
     },
     "user_tz": -540
    },
    "id": "y2E00IPiUmXC",
    "outputId": "39a7e3ef-65d2-43e8-aa36-d1c911ae167a"
   },
   "outputs": [
    {
     "data": {
      "text/plain": [
       "['C', 'C++', 'JAVA', 'Python', 'Go', 'C#']"
      ]
     },
     "execution_count": 11,
     "metadata": {},
     "output_type": "execute_result"
    }
   ],
   "source": [
    "lang1 = [\"C\", \"C++\", \"JAVA\"]\n",
    "lang2 = [\"Python\", \"Go\", \"C#\"]\n",
    "\n",
    "langs = lang1 + lang2\n",
    "langs"
   ]
  },
  {
   "cell_type": "markdown",
   "metadata": {
    "id": "niEUhcbTUmwN"
   },
   "source": [
    "07\n",
    "\n",
    "다음 리스트에서 최댓값과 최솟값을 출력하라. (힌트: min(), max() 함수 사용)\n",
    "\n",
    "```\n",
    "nums = [1, 2, 3, 4, 5, 6, 7]\n",
    "```\n",
    "```\n",
    "실행 예:\n",
    "max:  7\n",
    "min:  1\n",
    "```"
   ]
  },
  {
   "cell_type": "code",
   "execution_count": 13,
   "metadata": {
    "colab": {
     "base_uri": "https://localhost:8080/"
    },
    "executionInfo": {
     "elapsed": 4,
     "status": "ok",
     "timestamp": 1681174241458,
     "user": {
      "displayName": "Seunghwan Oh",
      "userId": "10114488339256114508"
     },
     "user_tz": -540
    },
    "id": "bGvzp5SpUqqK",
    "outputId": "b91c0abb-0a78-4827-ddba-98dd390d007f"
   },
   "outputs": [
    {
     "name": "stdout",
     "output_type": "stream",
     "text": [
      "max:  7\n",
      "min:  1\n"
     ]
    }
   ],
   "source": [
    "nums = [1, 2, 3, 4, 5, 6, 7]\n",
    "max_num = max(nums)\n",
    "min_num = min(nums)\n",
    "\n",
    "print(\"max: \",max_num)\n",
    "print(\"min: \",min_num)"
   ]
  },
  {
   "cell_type": "markdown",
   "metadata": {
    "id": "qKnGLDvUUsIS"
   },
   "source": [
    "08\n",
    "\n",
    "다음 리스트의 합을 출력하라.\n",
    "\n",
    "```\n",
    "nums = [1, 2, 3, 4, 5]\n",
    "```\n",
    "```\n",
    "실행 예:\n",
    "15\n",
    "```"
   ]
  },
  {
   "cell_type": "code",
   "execution_count": 14,
   "metadata": {
    "colab": {
     "base_uri": "https://localhost:8080/"
    },
    "executionInfo": {
     "elapsed": 3,
     "status": "ok",
     "timestamp": 1681174255393,
     "user": {
      "displayName": "Seunghwan Oh",
      "userId": "10114488339256114508"
     },
     "user_tz": -540
    },
    "id": "kWC3409OUudy",
    "outputId": "8b023ec1-c469-4f64-a5f4-73cdef057ac7"
   },
   "outputs": [
    {
     "data": {
      "text/plain": [
       "15"
      ]
     },
     "execution_count": 14,
     "metadata": {},
     "output_type": "execute_result"
    }
   ],
   "source": [
    "nums = [1, 2, 3, 4, 5]\n",
    "sum(nums)"
   ]
  },
  {
   "cell_type": "markdown",
   "metadata": {
    "id": "X7KdjwsxUwuL"
   },
   "source": [
    "09\n",
    "\n",
    "다음 리스트에 저장된 데이터의 개수를 화면에 구하하라.\n",
    "```\n",
    "cook = [\"피자\", \"김밥\", \"만두\", \"양념치킨\", \"족발\", \"피자\", \"김치만두\", \"쫄면\", \"소시지\", \"라면\", \"팥빙수\", \"김치전\"]\n",
    "```"
   ]
  },
  {
   "cell_type": "code",
   "execution_count": 15,
   "metadata": {
    "colab": {
     "base_uri": "https://localhost:8080/"
    },
    "executionInfo": {
     "elapsed": 327,
     "status": "ok",
     "timestamp": 1681174274757,
     "user": {
      "displayName": "Seunghwan Oh",
      "userId": "10114488339256114508"
     },
     "user_tz": -540
    },
    "id": "8iVicbkoUz3h",
    "outputId": "d3c21dff-d40f-40c6-b15f-524d324ff036"
   },
   "outputs": [
    {
     "data": {
      "text/plain": [
       "12"
      ]
     },
     "execution_count": 15,
     "metadata": {},
     "output_type": "execute_result"
    }
   ],
   "source": [
    "cook = [\"피자\", \"김밥\", \"만두\", \"양념치킨\", \"족발\", \"피자\", \"김치만두\", \"쫄면\", \"소시지\", \"라면\", \"팥빙수\", \"김치전\"]\n",
    "\n",
    "len(cook)"
   ]
  },
  {
   "cell_type": "markdown",
   "metadata": {
    "id": "AFWS0x_ZU_ZK"
   },
   "source": [
    "10\n",
    "다음 리스트의 평균을 출력하라.\n",
    "\n",
    "```\n",
    "nums = [1, 2, 3, 4, 5]\n",
    "```\n",
    "```\n",
    "실행 예:\n",
    "3.0\n",
    "```"
   ]
  },
  {
   "cell_type": "code",
   "execution_count": 17,
   "metadata": {
    "colab": {
     "base_uri": "https://localhost:8080/",
     "height": 213
    },
    "executionInfo": {
     "elapsed": 6,
     "status": "error",
     "timestamp": 1681174308229,
     "user": {
      "displayName": "Seunghwan Oh",
      "userId": "10114488339256114508"
     },
     "user_tz": -540
    },
    "id": "2KC5MQZ_VCax",
    "outputId": "059adf96-c2a9-49e2-8b8c-2ea235af1e96"
   },
   "outputs": [
    {
     "data": {
      "text/plain": [
       "3.0"
      ]
     },
     "execution_count": 17,
     "metadata": {},
     "output_type": "execute_result"
    }
   ],
   "source": [
    "# 함수사용\n",
    "nums = [1, 2, 3, 4, 5]\n",
    "\n",
    "sum(nums) / len(nums)"
   ]
  },
  {
   "cell_type": "code",
   "execution_count": 19,
   "metadata": {},
   "outputs": [
    {
     "data": {
      "text/plain": [
       "3.0"
      ]
     },
     "execution_count": 19,
     "metadata": {},
     "output_type": "execute_result"
    }
   ],
   "source": [
    "#for문 사용\n",
    "nums = [1, 2, 3, 4, 5]\n",
    "\n",
    "sum_num = 0\n",
    "for i in nums:\n",
    "    sum_num +=i\n",
    "\n",
    "sum_num / len(nums)"
   ]
  },
  {
   "cell_type": "code",
   "execution_count": 20,
   "metadata": {},
   "outputs": [
    {
     "data": {
      "text/plain": [
       "3.0"
      ]
     },
     "execution_count": 20,
     "metadata": {},
     "output_type": "execute_result"
    }
   ],
   "source": [
    "# numpy 사용\n",
    "import numpy\n",
    "\n",
    "nums = [1, 2, 3, 4, 5]\n",
    "\n",
    "numpy.mean(nums)"
   ]
  },
  {
   "cell_type": "code",
   "execution_count": 21,
   "metadata": {},
   "outputs": [
    {
     "data": {
      "text/plain": [
       "3"
      ]
     },
     "execution_count": 21,
     "metadata": {},
     "output_type": "execute_result"
    }
   ],
   "source": [
    "# statistics 사용\n",
    "import statistics\n",
    "\n",
    "nums = [1, 2, 3, 4, 5]\n",
    "\n",
    "statistics.mean(nums)"
   ]
  },
  {
   "cell_type": "markdown",
   "metadata": {
    "id": "tkU0YEt3VFD5"
   },
   "source": [
    "11\n",
    "\n",
    "price 변수에는 날짜와 종가 정보가 저장돼 있다. 날짜 정보를 제외하고 가격 정보만을 출력하라. (힌트 : 슬라이싱)\n",
    "\n",
    "```\n",
    "price = ['20180728', 100, 130, 140, 150, 160, 170]\n",
    "```\n",
    "```\n",
    "출력 예시:\n",
    "[100, 130, 140, 150, 160, 170]\n",
    "```"
   ]
  },
  {
   "cell_type": "code",
   "execution_count": 22,
   "metadata": {
    "colab": {
     "base_uri": "https://localhost:8080/"
    },
    "executionInfo": {
     "elapsed": 12,
     "status": "ok",
     "timestamp": 1681175717666,
     "user": {
      "displayName": "Seunghwan Oh",
      "userId": "10114488339256114508"
     },
     "user_tz": -540
    },
    "id": "jyRanf6AVHxA",
    "outputId": "0872bf59-54f3-4a50-822a-add3a754461c"
   },
   "outputs": [
    {
     "data": {
      "text/plain": [
       "[100, 130, 140, 150, 160, 170]"
      ]
     },
     "execution_count": 22,
     "metadata": {},
     "output_type": "execute_result"
    }
   ],
   "source": [
    "price = ['20180728', 100, 130, 140, 150, 160, 170]\n",
    "\n",
    "price[1:]"
   ]
  },
  {
   "cell_type": "markdown",
   "metadata": {
    "id": "xlRtjQrzVKLy"
   },
   "source": [
    "12\n",
    "\n",
    "슬라이싱을 사용해서 홀수만 출력하라.\n",
    "\n",
    "```\n",
    "nums = [1, 2, 3, 4, 5, 6, 7, 8, 9, 10]\n",
    "```\n",
    "```\n",
    "실행 예:\n",
    "[1, 3, 5, 7, 9]\n",
    "```"
   ]
  },
  {
   "cell_type": "code",
   "execution_count": 27,
   "metadata": {},
   "outputs": [
    {
     "data": {
      "text/plain": [
       "[1, 3, 5, 7, 9]"
      ]
     },
     "execution_count": 27,
     "metadata": {},
     "output_type": "execute_result"
    }
   ],
   "source": [
    "nums = [1, 2, 3, 4, 5, 6, 7, 8, 9, 10]\n",
    "nums[::2]"
   ]
  },
  {
   "cell_type": "code",
   "execution_count": 26,
   "metadata": {
    "colab": {
     "base_uri": "https://localhost:8080/"
    },
    "executionInfo": {
     "elapsed": 5,
     "status": "ok",
     "timestamp": 1681175740967,
     "user": {
      "displayName": "Seunghwan Oh",
      "userId": "10114488339256114508"
     },
     "user_tz": -540
    },
    "id": "wq00_aGnVNcf",
    "outputId": "9a31bac7-410a-495e-a5e3-6c4fa413ec51"
   },
   "outputs": [
    {
     "data": {
      "text/plain": [
       "[1, 3, 5, 7, 9]"
      ]
     },
     "execution_count": 26,
     "metadata": {},
     "output_type": "execute_result"
    }
   ],
   "source": [
    "#for문, 조건문. 슬라이싱을 모르면 이렇게 된다.. \n",
    "nums = [1, 2, 3, 4, 5, 6, 7, 8, 9, 10]\n",
    "\n",
    "list1 =[]\n",
    "for i in nums:\n",
    "    if i%2 == 1:\n",
    "        list1.append(i)\n",
    "    else:\n",
    "        pass\n",
    "list1"
   ]
  },
  {
   "cell_type": "markdown",
   "metadata": {
    "id": "9u1vTYhIVN-l"
   },
   "source": [
    "13\n",
    "\n",
    "슬라이싱을 사용해서 짝수만 출력하라.\n",
    "\n",
    "```\n",
    "nums = [1, 2, 3, 4, 5, 6, 7, 8, 9, 10]\n",
    "```\n",
    "```\n",
    "실행 예:\n",
    "[2, 4, 6, 8, 10]\n",
    "```"
   ]
  },
  {
   "cell_type": "code",
   "execution_count": 30,
   "metadata": {
    "colab": {
     "base_uri": "https://localhost:8080/"
    },
    "executionInfo": {
     "elapsed": 3,
     "status": "ok",
     "timestamp": 1681175766458,
     "user": {
      "displayName": "Seunghwan Oh",
      "userId": "10114488339256114508"
     },
     "user_tz": -540
    },
    "id": "Hu16RvgHVR0n",
    "outputId": "ecc203fa-6140-4de2-c956-d36b691e98a8"
   },
   "outputs": [
    {
     "data": {
      "text/plain": [
       "[2, 4, 6, 8, 10]"
      ]
     },
     "execution_count": 30,
     "metadata": {},
     "output_type": "execute_result"
    }
   ],
   "source": [
    "nums = [1, 2, 3, 4, 5, 6, 7, 8, 9, 10]\n",
    "nums[1::2]"
   ]
  },
  {
   "cell_type": "markdown",
   "metadata": {
    "id": "GTYLicWkVT4B"
   },
   "source": [
    "14\n",
    "\n",
    "슬라이싱을 사용해서 리스트의 숫자를 역 방향으로 출력하라.\n",
    "\n",
    "```\n",
    "nums = [1, 2, 3, 4, 5]\n",
    "```\n",
    "```\n",
    "실행 예:\n",
    "[5, 4, 3, 2, 1]\n",
    "```"
   ]
  },
  {
   "cell_type": "code",
   "execution_count": 39,
   "metadata": {
    "colab": {
     "base_uri": "https://localhost:8080/"
    },
    "executionInfo": {
     "elapsed": 3,
     "status": "ok",
     "timestamp": 1681175784633,
     "user": {
      "displayName": "Seunghwan Oh",
      "userId": "10114488339256114508"
     },
     "user_tz": -540
    },
    "id": "TFEKHKbVVWb4",
    "outputId": "7df39f9e-5f6e-4187-ee74-aa602f7ed733"
   },
   "outputs": [
    {
     "data": {
      "text/plain": [
       "[5, 4, 3, 2, 1]"
      ]
     },
     "execution_count": 39,
     "metadata": {},
     "output_type": "execute_result"
    }
   ],
   "source": [
    "nums = [1, 2, 3, 4, 5]\n",
    "nums[::-1]"
   ]
  },
  {
   "cell_type": "markdown",
   "metadata": {
    "id": "IO9KK15LVX2k"
   },
   "source": [
    "15\n",
    "\n",
    "interest 리스트에는 아래의 데이터가 바인딩되어 있다.\n",
    "\n",
    "```\n",
    "interest = ['삼성전자', 'LG전자', 'Naver']\n",
    "```\n",
    "interest 리스트를 사용하여 아래와 같이 화면에 출력하라.\n",
    "```\n",
    "출력 예시:\n",
    "삼성전자 Naver\n",
    "```"
   ]
  },
  {
   "cell_type": "code",
   "execution_count": null,
   "metadata": {},
   "outputs": [],
   "source": []
  },
  {
   "cell_type": "code",
   "execution_count": 46,
   "metadata": {
    "colab": {
     "base_uri": "https://localhost:8080/",
     "height": 36
    },
    "executionInfo": {
     "elapsed": 5,
     "status": "ok",
     "timestamp": 1681175857829,
     "user": {
      "displayName": "Seunghwan Oh",
      "userId": "10114488339256114508"
     },
     "user_tz": -540
    },
    "id": "6OISv8wFVbBH",
    "outputId": "89506fc5-af20-4032-aa96-81f7baa4b833"
   },
   "outputs": [
    {
     "name": "stdout",
     "output_type": "stream",
     "text": [
      "삼성전자 LG전자\n"
     ]
    }
   ],
   "source": [
    "#join 매소드 이용\n",
    "interest = ['삼성전자', 'LG전자', 'Naver']\n",
    "print(' '.join(interest[:2]))"
   ]
  },
  {
   "cell_type": "markdown",
   "metadata": {
    "id": "czIMbQpPVctt"
   },
   "source": [
    "16 join 메서드\n",
    "\n",
    "interest 리스트에는 아래의 데이터가 바인딩되어 있다.\n",
    "```\n",
    "interest = ['삼성전자', 'LG전자', 'Naver', 'SK하이닉스', '미래에셋대우']\n",
    "```\n",
    "interest 리스트를 사용하여 아래와 같이 화면에 출력하라.\n",
    "```\n",
    "출력 예시:\n",
    "삼성전자 LG전자 Naver SK하이닉스 미래에셋대우\n",
    "```"
   ]
  },
  {
   "cell_type": "code",
   "execution_count": 18,
   "metadata": {
    "colab": {
     "base_uri": "https://localhost:8080/",
     "height": 36
    },
    "executionInfo": {
     "elapsed": 6,
     "status": "ok",
     "timestamp": 1681175888860,
     "user": {
      "displayName": "Seunghwan Oh",
      "userId": "10114488339256114508"
     },
     "user_tz": -540
    },
    "id": "hZPqNdgeVg6I",
    "outputId": "a256a132-14ef-409b-e002-638e507fadef"
   },
   "outputs": [],
   "source": [
    "interest = ['삼성전자', 'LG전자', 'Naver', 'SK하이닉스', '미래에셋대우']\n",
    "\n"
   ]
  },
  {
   "cell_type": "markdown",
   "metadata": {
    "id": "JFpCd3UWVjRk"
   },
   "source": [
    "17 join 메서드\n",
    "\n",
    "interest 리스트에는 아래의 데이터가 바인딩되어 있다.\n",
    "\n",
    "```\n",
    "interest = ['삼성전자', 'LG전자', 'Naver', 'SK하이닉스', '미래에셋대우']\n",
    "```\n",
    "interest 리스트를 사용하여 아래와 같이 화면에 출력하라.\n",
    "```\n",
    "출력 예시:\n",
    "삼성전자/LG전자/Naver/SK하이닉스/미래에셋대우\n",
    "```"
   ]
  },
  {
   "cell_type": "code",
   "execution_count": 19,
   "metadata": {
    "colab": {
     "base_uri": "https://localhost:8080/",
     "height": 36
    },
    "executionInfo": {
     "elapsed": 5,
     "status": "ok",
     "timestamp": 1681175907261,
     "user": {
      "displayName": "Seunghwan Oh",
      "userId": "10114488339256114508"
     },
     "user_tz": -540
    },
    "id": "qKGgrxGNVmiW",
    "outputId": "7e76e123-fe5f-4af5-a849-879db26c46af"
   },
   "outputs": [
    {
     "data": {
      "text/plain": [
       "'삼성전자/LG전자/Naver/SK하이닉스/미래에셋대우'"
      ]
     },
     "execution_count": 19,
     "metadata": {},
     "output_type": "execute_result"
    }
   ],
   "source": [
    "interest = ['삼성전자', 'LG전자', 'Naver', 'SK하이닉스', '미래에셋대우']\n",
    "\"/\".join(interest)"
   ]
  },
  {
   "cell_type": "markdown",
   "metadata": {
    "id": "bRYoCCxIVogQ"
   },
   "source": [
    "18 join 메서드\n",
    "\n",
    "interest 리스트에는 아래의 데이터가 바인딩되어 있다.\n",
    "\n",
    "```\n",
    "interest = ['삼성전자', 'LG전자', 'Naver', 'SK하이닉스', '미래에셋대우']\n",
    "```\n",
    "join() 메서드를 사용해서 interest 리스트를 아래와 같이 화면에 출력하라.\n",
    "```\n",
    "출력 예시:\n",
    "삼성전자\n",
    "LG전자\n",
    "Naver\n",
    "SK하이닉스\n",
    "미래에셋대우\n",
    "```"
   ]
  },
  {
   "cell_type": "code",
   "execution_count": 22,
   "metadata": {
    "colab": {
     "base_uri": "https://localhost:8080/"
    },
    "executionInfo": {
     "elapsed": 5,
     "status": "ok",
     "timestamp": 1681175950821,
     "user": {
      "displayName": "Seunghwan Oh",
      "userId": "10114488339256114508"
     },
     "user_tz": -540
    },
    "id": "Ix0vdgofVsC_",
    "outputId": "9c3646f5-1cca-48f8-fa12-02e59a0fc48f"
   },
   "outputs": [],
   "source": [
    "interest = ['삼성전자', 'LG전자', 'Naver', 'SK하이닉스', '미래에셋대우']\n",
    "\n"
   ]
  },
  {
   "cell_type": "markdown",
   "metadata": {
    "id": "ARg5AOlFVtsu"
   },
   "source": [
    "19 문자열 split 메서드\n",
    "\n",
    "회사 이름이 슬래시 ('/')로 구분되어 하나의 문자열로 저장되어 있다.\n",
    "```\n",
    "string = \"삼성전자/LG전자/Naver\"\n",
    "```\n",
    "이를 interest 이름의 리스트로 분리 저장하라.\n",
    "```\n",
    "실행 예시\n",
    ">> print(interest)\n",
    "['삼성전자', 'LG전자', 'Naver']\n",
    "```"
   ]
  },
  {
   "cell_type": "code",
   "execution_count": 23,
   "metadata": {
    "colab": {
     "base_uri": "https://localhost:8080/"
    },
    "executionInfo": {
     "elapsed": 2,
     "status": "ok",
     "timestamp": 1681175989342,
     "user": {
      "displayName": "Seunghwan Oh",
      "userId": "10114488339256114508"
     },
     "user_tz": -540
    },
    "id": "uzHyYCoNVwDX",
    "outputId": "8a1041bc-b1e2-4e79-ef8d-a14de6376a75"
   },
   "outputs": [],
   "source": [
    "string = \"삼성전자/LG전자/Naver\"\n",
    "\n"
   ]
  },
  {
   "cell_type": "markdown",
   "metadata": {
    "id": "CZToTUTEWAmq"
   },
   "source": [
    "20 리스트 정렬\n",
    "\n",
    "리스트에 있는 값을 오름차순으로 정렬하세요.\n",
    "```\n",
    "data = [2, 4, 3, 1, 5, 10, 9]\n",
    "```"
   ]
  },
  {
   "cell_type": "code",
   "execution_count": 24,
   "metadata": {
    "colab": {
     "base_uri": "https://localhost:8080/"
    },
    "executionInfo": {
     "elapsed": 10,
     "status": "ok",
     "timestamp": 1681176082875,
     "user": {
      "displayName": "Seunghwan Oh",
      "userId": "10114488339256114508"
     },
     "user_tz": -540
    },
    "id": "VrmfovUwWDIG",
    "outputId": "b9148b13-2b32-47fd-95df-6146d629ca26"
   },
   "outputs": [],
   "source": [
    "data = [2, 4, 3, 1, 5, 10, 9]\n",
    "\n"
   ]
  },
  {
   "cell_type": "code",
   "execution_count": null,
   "metadata": {
    "id": "O3GNF2yz5rY-"
   },
   "outputs": [],
   "source": []
  }
 ],
 "metadata": {
  "colab": {
   "provenance": []
  },
  "kernelspec": {
   "display_name": "Python 3 (ipykernel)",
   "language": "python",
   "name": "python3"
  },
  "language_info": {
   "codemirror_mode": {
    "name": "ipython",
    "version": 3
   },
   "file_extension": ".py",
   "mimetype": "text/x-python",
   "name": "python",
   "nbconvert_exporter": "python",
   "pygments_lexer": "ipython3",
   "version": "3.8.16"
  }
 },
 "nbformat": 4,
 "nbformat_minor": 1
}
